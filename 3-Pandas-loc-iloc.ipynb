{
 "cells": [
  {
   "cell_type": "markdown",
   "metadata": {},
   "source": [
    "Square brackets:\n",
    "* Column access brics[[\"country\", \"capital\"]]\n",
    "* Row access, only through slicing brics[1:4]\n",
    "Loc (label-based):\n",
    "* Column access brics.loc[:, [\"country\", \"capital\"]]\n",
    "* Row access brics.loc[[\"RU\", \"IN\", \"CH\"]]\n",
    "* Row & column access brics.loc[[\"RU\", \"IN\", \"CH\"], [\"country\", \"capital\"]]\n",
    "Iloc:\n",
    "* brics.iloc[[1]]\n",
    "* brics.iloc[[1,2,3]]\n",
    "* brics.iloc[[1,2,3], [0,1]]\n",
    "\n",
    ":, -> slice going from beginning to end"
   ]
  },
  {
   "cell_type": "markdown",
   "metadata": {},
   "source": [
    "We can see below the different ways of how we can select columns"
   ]
  },
  {
   "cell_type": "code",
   "execution_count": null,
   "metadata": {
    "collapsed": true
   },
   "outputs": [],
   "source": [
    "# Import cars data\n",
    "import pandas as pd\n",
    "cars = pd.read_csv('cars.csv', index_col = 0)\n",
    "\n",
    "# Print out country column as Pandas Series\n",
    "print(cars[\"country\"])\n",
    "\n",
    "# Print out country column as Pandas DataFrame\n",
    "print(cars[[\"country\"]])\n",
    "\n",
    "# Print out DataFrame with country and drives_right columns\n",
    "print(cars[[\"country\", \"drives_right\"]])\n",
    "\n",
    "# Print out first 3 observations\n",
    "print(cars[0:3])\n",
    "\n",
    "# Print out fourth, fifth and sixth observation\n",
    "print(cars[3:6])"
   ]
  },
  {
   "cell_type": "markdown",
   "metadata": {},
   "source": [
    "Pandas Series vs. Pandas DataFrame\n",
    "\n",
    "pandas.DataFrame(data=None, index=None, columns=None, dtype=None, copy=False)\n",
    "\n",
    "Two-dimensional size-mutable, potentially heterogeneous tabular data structure with labeled axes (rows and columns). Arithmetic operations align on both row and column labels. Can be thought of as a dict-like container for Series objects. The primary pandas data structure\n",
    "\n",
    "(Emphasis mine, sentence fragment not mine)\n",
    "\n",
    "So the Series is the datastructure for a single column of a DataFrame, not only conceptually, but literally i.e. the data in a DataFrame is actually stored in memory as a collection of Series.\n",
    "\n",
    "Analogously: We need both lists and matrices, because matrices are built with lists. Single row matricies, while equivalent to lists in functionality still cannot exists without the list(s) they're composed of.\n",
    "\n",
    "They both have extremely similar APIs, but you'll find that DataFrame methods always cater to the possibility that you have more than one column. And of course, you can always add another Series (or equivalent object) to a DataFrame, while adding a Series to another Series involves creating a DataFrame.\n",
    "\n",
    "In [1]: cars.iloc[4]\n",
    "\n",
    "Out[1]: \n",
    "cars_per_cap       200\n",
    "country         Russia\n",
    "drives_right      True\n",
    "Name: RU, dtype: object\n",
    "\n",
    "In [2]: cars.loc[['RU']]\n",
    "Out[2]: \n",
    "    cars_per_cap country  drives_right\n",
    "RU           200  Russia          True\n"
   ]
  },
  {
   "cell_type": "code",
   "execution_count": null,
   "metadata": {
    "collapsed": true
   },
   "outputs": [],
   "source": [
    "# each pair gives the same result\n",
    "\n",
    "cars.loc['RU']\n",
    "cars.iloc[4]\n",
    "\n",
    "cars.loc[['RU']]\n",
    "cars.iloc[[4]]\n",
    "\n",
    "cars.loc[['RU', 'AUS']]\n",
    "cars.iloc[[4, 1]]\n",
    "\n",
    "cars.loc['IN', 'cars_per_cap']\n",
    "cars.iloc[3, 0]\n",
    "\n",
    "cars.loc[['IN', 'RU'], 'cars_per_cap']\n",
    "cars.iloc[[3, 4], 0]\n",
    "\n",
    "cars.loc[['IN', 'RU'], ['cars_per_cap', 'country']]\n",
    "cars.iloc[[3, 4], [0, 1]]"
   ]
  },
  {
   "cell_type": "markdown",
   "metadata": {},
   "source": [
    "Great! You might wonder if you can also combine label-based selection the loc way and index-based selection the iloc way. You can! It's done with ix, but we won't go into that here."
   ]
  },
  {
   "cell_type": "code",
   "execution_count": null,
   "metadata": {
    "collapsed": true
   },
   "outputs": [],
   "source": [
    "# Import cars data\n",
    "import pandas as pd\n",
    "cars = pd.read_csv('cars.csv', index_col = 0)\n",
    "\n",
    "# Print out drives_right column as Series\n",
    "print(cars.loc[:, 'drives_right'])\n",
    "\n",
    "# Print out drives_right column as DataFrame\n",
    "print(cars.loc[:, ['drives_right']])\n",
    "\n",
    "# Print out cars_per_cap and drives_right as DataFrame\n",
    "print(cars.loc[:, ['cars_per_cap', 'drives_right']])"
   ]
  }
 ],
 "metadata": {
  "kernelspec": {
   "display_name": "Python 3",
   "language": "python",
   "name": "python3"
  },
  "language_info": {
   "codemirror_mode": {
    "name": "ipython",
    "version": 3
   },
   "file_extension": ".py",
   "mimetype": "text/x-python",
   "name": "python",
   "nbconvert_exporter": "python",
   "pygments_lexer": "ipython3",
   "version": "3.6.3"
  }
 },
 "nbformat": 4,
 "nbformat_minor": 2
}
